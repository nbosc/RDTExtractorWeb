{
 "cells": [
  {
   "cell_type": "code",
   "execution_count": 1,
   "metadata": {},
   "outputs": [],
   "source": [
    "import pandas as pd"
   ]
  },
  {
   "cell_type": "code",
   "execution_count": 4,
   "metadata": {},
   "outputs": [],
   "source": [
    "df = pd.read_pickle(\"study.pkl\")"
   ]
  },
  {
   "cell_type": "code",
   "execution_count": 5,
   "metadata": {},
   "outputs": [
    {
     "data": {
      "text/html": [
       "<div>\n",
       "<style scoped>\n",
       "    .dataframe tbody tr th:only-of-type {\n",
       "        vertical-align: middle;\n",
       "    }\n",
       "\n",
       "    .dataframe tbody tr th {\n",
       "        vertical-align: top;\n",
       "    }\n",
       "\n",
       "    .dataframe thead th {\n",
       "        text-align: right;\n",
       "    }\n",
       "</style>\n",
       "<table border=\"1\" class=\"dataframe\">\n",
       "  <thead>\n",
       "    <tr style=\"text-align: right;\">\n",
       "      <th></th>\n",
       "      <th>study_id</th>\n",
       "      <th>subst_id</th>\n",
       "      <th>normalised_sex</th>\n",
       "      <th>normalised_administration_route</th>\n",
       "      <th>normalised_species</th>\n",
       "      <th>exposure_period_days</th>\n",
       "      <th>report_number</th>\n",
       "    </tr>\n",
       "  </thead>\n",
       "  <tbody>\n",
       "    <tr>\n",
       "      <th>0</th>\n",
       "      <td>13652</td>\n",
       "      <td>AZ_GGA_203287721</td>\n",
       "      <td>BOTH</td>\n",
       "      <td>INTRAVENOUS</td>\n",
       "      <td>RAT</td>\n",
       "      <td>21.0</td>\n",
       "      <td>1358KR</td>\n",
       "    </tr>\n",
       "    <tr>\n",
       "      <th>1</th>\n",
       "      <td>13143</td>\n",
       "      <td>AZ_GGA_204260276</td>\n",
       "      <td>M</td>\n",
       "      <td>INTRAVENOUS</td>\n",
       "      <td>MONKEY</td>\n",
       "      <td>30.0</td>\n",
       "      <td>8233306</td>\n",
       "    </tr>\n",
       "    <tr>\n",
       "      <th>2</th>\n",
       "      <td>9038</td>\n",
       "      <td>GGA_GSK_SB204269</td>\n",
       "      <td>BOTH</td>\n",
       "      <td>ORAL GAVAGE</td>\n",
       "      <td>RAT</td>\n",
       "      <td>28.0</td>\n",
       "      <td>G95584</td>\n",
       "    </tr>\n",
       "    <tr>\n",
       "      <th>3</th>\n",
       "      <td>7753</td>\n",
       "      <td>GGA-NVS-NAV930</td>\n",
       "      <td>BOTH</td>\n",
       "      <td>SUBCUTANEOUS</td>\n",
       "      <td>DOG</td>\n",
       "      <td>28.0</td>\n",
       "      <td>972127</td>\n",
       "    </tr>\n",
       "    <tr>\n",
       "      <th>4</th>\n",
       "      <td>10826</td>\n",
       "      <td>AZ_GGA_200000511</td>\n",
       "      <td>M</td>\n",
       "      <td>INTRAVENOUS DRIP</td>\n",
       "      <td>RAT</td>\n",
       "      <td>1.0</td>\n",
       "      <td>1129SR</td>\n",
       "    </tr>\n",
       "  </tbody>\n",
       "</table>\n",
       "</div>"
      ],
      "text/plain": [
       "  study_id          subst_id normalised_sex normalised_administration_route  \\\n",
       "0    13652  AZ_GGA_203287721           BOTH                     INTRAVENOUS   \n",
       "1    13143  AZ_GGA_204260276              M                     INTRAVENOUS   \n",
       "2     9038  GGA_GSK_SB204269           BOTH                     ORAL GAVAGE   \n",
       "3     7753    GGA-NVS-NAV930           BOTH                    SUBCUTANEOUS   \n",
       "4    10826  AZ_GGA_200000511              M                INTRAVENOUS DRIP   \n",
       "\n",
       "  normalised_species  exposure_period_days report_number  \n",
       "0                RAT                  21.0        1358KR  \n",
       "1             MONKEY                  30.0       8233306  \n",
       "2                RAT                  28.0        G95584  \n",
       "3                DOG                  28.0        972127  \n",
       "4                RAT                   1.0        1129SR  "
      ]
     },
     "execution_count": 5,
     "metadata": {},
     "output_type": "execute_result"
    }
   ],
   "source": [
    "df.head()"
   ]
  },
  {
   "cell_type": "code",
   "execution_count": null,
   "metadata": {},
   "outputs": [],
   "source": []
  }
 ],
 "metadata": {
  "kernelspec": {
   "display_name": "Python 3",
   "language": "python",
   "name": "python3"
  },
  "language_info": {
   "codemirror_mode": {
    "name": "ipython",
    "version": 3
   },
   "file_extension": ".py",
   "mimetype": "text/x-python",
   "name": "python",
   "nbconvert_exporter": "python",
   "pygments_lexer": "ipython3",
   "version": "3.6.4"
  }
 },
 "nbformat": 4,
 "nbformat_minor": 2
}
